{
  "nbformat": 4,
  "nbformat_minor": 0,
  "metadata": {
    "colab": {
      "provenance": [],
      "gpuType": "T4",
      "authorship_tag": "ABX9TyNxCprwfuEmDyTrq/2CxSCn",
      "include_colab_link": true
    },
    "kernelspec": {
      "name": "ir",
      "display_name": "R"
    },
    "language_info": {
      "name": "R"
    },
    "accelerator": "GPU"
  },
  "cells": [
    {
      "cell_type": "markdown",
      "metadata": {
        "id": "view-in-github",
        "colab_type": "text"
      },
      "source": [
        "<a href=\"https://colab.research.google.com/github/fishpersonn/20220503/blob/main/Metoo_LDA.ipynb\" target=\"_parent\"><img src=\"https://colab.research.google.com/assets/colab-badge.svg\" alt=\"Open In Colab\"/></a>"
      ]
    },
    {
      "cell_type": "markdown",
      "source": [
        "# 加載所需的函式庫"
      ],
      "metadata": {
        "id": "wRPzMOUpioId"
      }
    },
    {
      "cell_type": "code",
      "source": [
        "install.packages(\"topicmodels\", repos = \"http://cran.rstudio.com/\")\n",
        "install.packages(\"tm\", repos = \"http://cran.rstudio.com/\")\n",
        "install.packages(\"SnowballC\", repos = \"http://cran.rstudio.com/\")\n",
        "install.packages(\"tidytext\", repos = \"http://cran.rstudio.com/\")\n",
        "install.packages(\"ggplot2\", repos = \"http://cran.rstudio.com/\")"
      ],
      "metadata": {
        "colab": {
          "base_uri": "https://localhost:8080/"
        },
        "id": "8Ca14GGYCBYa",
        "outputId": "50829fe0-ac65-4c39-c46a-9d6a3c5f6237"
      },
      "execution_count": 27,
      "outputs": [
        {
          "output_type": "stream",
          "name": "stderr",
          "text": [
            "Installing package into ‘/usr/local/lib/R/site-library’\n",
            "(as ‘lib’ is unspecified)\n",
            "\n",
            "Installing package into ‘/usr/local/lib/R/site-library’\n",
            "(as ‘lib’ is unspecified)\n",
            "\n",
            "Installing package into ‘/usr/local/lib/R/site-library’\n",
            "(as ‘lib’ is unspecified)\n",
            "\n",
            "Installing package into ‘/usr/local/lib/R/site-library’\n",
            "(as ‘lib’ is unspecified)\n",
            "\n",
            "Installing package into ‘/usr/local/lib/R/site-library’\n",
            "(as ‘lib’ is unspecified)\n",
            "\n"
          ]
        }
      ]
    },
    {
      "cell_type": "code",
      "source": [
        "library(topicmodels)\n",
        "library(tm)\n",
        "library(SnowballC)\n",
        "library(tidytext)\n",
        "library(ggplot2)"
      ],
      "metadata": {
        "colab": {
          "base_uri": "https://localhost:8080/"
        },
        "id": "qWYcDJNICTUj",
        "outputId": "caa84184-fa55-4950-c489-e8b6763627ab"
      },
      "execution_count": 28,
      "outputs": [
        {
          "output_type": "stream",
          "name": "stderr",
          "text": [
            "Loading required package: NLP\n",
            "\n",
            "\n",
            "Attaching package: ‘NLP’\n",
            "\n",
            "\n",
            "The following objects are masked from ‘package:quanteda’:\n",
            "\n",
            "    meta, meta<-\n",
            "\n",
            "\n",
            "\n",
            "Attaching package: ‘tm’\n",
            "\n",
            "\n",
            "The following object is masked from ‘package:quanteda’:\n",
            "\n",
            "    stopwords\n",
            "\n",
            "\n",
            "\n",
            "Attaching package: ‘ggplot2’\n",
            "\n",
            "\n",
            "The following object is masked from ‘package:NLP’:\n",
            "\n",
            "    annotate\n",
            "\n",
            "\n",
            "The following object is masked from ‘package:qdapRegex’:\n",
            "\n",
            "    %+%\n",
            "\n",
            "\n"
          ]
        }
      ]
    },
    {
      "cell_type": "markdown",
      "source": [],
      "metadata": {
        "id": "WBCw4bRYCi5J"
      }
    },
    {
      "cell_type": "markdown",
      "source": [
        "**載入資料**\n",
        "\n"
      ],
      "metadata": {
        "id": "YrnzWGjRCkKs"
      }
    },
    {
      "cell_type": "code",
      "source": [
        "list.files()\n"
      ],
      "metadata": {
        "colab": {
          "base_uri": "https://localhost:8080/",
          "height": 34
        },
        "id": "n4bvJHuZCoX9",
        "outputId": "06cf44f5-ed7e-4e6c-f55b-9f2b8a947545"
      },
      "execution_count": 29,
      "outputs": [
        {
          "output_type": "display_data",
          "data": {
            "text/html": [
              "<style>\n",
              ".list-inline {list-style: none; margin:0; padding: 0}\n",
              ".list-inline>li {display: inline-block}\n",
              ".list-inline>li:not(:last-child)::after {content: \"\\00b7\"; padding: 0 .5ex}\n",
              "</style>\n",
              "<ol class=list-inline><li>'Cleaned_metoodata_1105goodUTF8.csv'</li><li>'sample_data'</li></ol>\n"
            ],
            "text/markdown": "1. 'Cleaned_metoodata_1105goodUTF8.csv'\n2. 'sample_data'\n\n\n",
            "text/latex": "\\begin{enumerate*}\n\\item 'Cleaned\\_metoodata\\_1105goodUTF8.csv'\n\\item 'sample\\_data'\n\\end{enumerate*}\n",
            "text/plain": [
              "[1] \"Cleaned_metoodata_1105goodUTF8.csv\" \"sample_data\"                       "
            ]
          },
          "metadata": {}
        }
      ]
    },
    {
      "cell_type": "code",
      "source": [
        "text_data <- read.csv(\"Cleaned_metoodata_1105goodUTF8.csv\", stringsAsFactors = FALSE)"
      ],
      "metadata": {
        "id": "Cl1ePe3gDNs_"
      },
      "execution_count": 52,
      "outputs": []
    },
    {
      "cell_type": "code",
      "source": [
        "head(text_data)  # 查看前幾行數據\n",
        "str(text_data)   # 查看數據結構"
      ],
      "metadata": {
        "colab": {
          "base_uri": "https://localhost:8080/",
          "height": 708
        },
        "id": "OM-5NDHeDXz3",
        "outputId": "00ddb7f7-2f31-4d0c-ada6-00235c045f7f"
      },
      "execution_count": 53,
      "outputs": [
        {
          "output_type": "display_data",
          "data": {
            "text/html": [
              "<table class=\"dataframe\">\n",
              "<caption>A data.frame: 6 × 3</caption>\n",
              "<thead>\n",
              "\t<tr><th></th><th scope=col>text</th><th scope=col>date</th><th scope=col>author</th></tr>\n",
              "\t<tr><th></th><th scope=col>&lt;chr&gt;</th><th scope=col>&lt;chr&gt;</th><th scope=col>&lt;chr&gt;</th></tr>\n",
              "</thead>\n",
              "<tbody>\n",
              "\t<tr><th scope=row>1</th><td>即時中心／綜合報導根據法庭檔案，曾任美國選秀節目《美國偶像》與《舞林爭霸》評審的寶拉阿巴杜（Paula Abdul），近日指控前製作人李斯高（Nigel Lythgoe）於兩人共事期間對她性侵害。寶拉阿巴杜指控控前製作人李斯高性侵。（資料圖／美聯社）路透社報導，61歲資深女星寶拉阿巴杜29日向洛杉磯郡高等法院（Los Angeles County Superior Court）提起訴訟，控告現年74歲的李斯高於《美國偶像》（American Idol）前幾季時，曾在電梯內對她不軌。法庭檔案指出，李斯高被控在某天美國偶像試鏡活動結束後，於飯店電梯內對寶拉阿巴杜襲胸且抓下體，還有其他討人厭的肢體接觸；當時寶拉阿巴杜試圖推開他，當電梯門一開時，她就迅速逃跑了。根據法庭檔案，寶拉阿巴杜當時因擔心丟掉工作而沒採取任何行動，而且合約也不准她對外張揚。幾年後，寶拉阿巴杜擔任舞蹈選秀節目《舞林爭霸》（So You Think You Can Dance）評審時，又被性侵害一次。訟狀指控，李斯高於某次工作晚餐後，在洛杉磯自宅的沙發上侵犯寶拉阿巴杜，當時寶拉阿巴杜再次堅定拒絕他，並「立刻離開李斯高的家」。寶拉阿巴杜也曾目擊，李斯高侵犯她在舞林爭霸的助理。根據美國娛樂媒體TMZ，李斯高否認前述指控。（文／中央社）《中天關心您｜拒絕性騷擾及性暴力，尊重身體自主權，請勇敢說不》◆保護專線：113／110◆婦女救援基金會：02-2555-8595◆現代婦女基金會性暴力防治組：02-7728-5098</td><td>2023/12/31</td><td>中天新聞  </td></tr>\n",
              "\t<tr><th scope=row>2</th><td>投稿網址： too，但同科專師卻說因為人力不夠要相挺？性騷擾零容忍！為何護理師要容忍？換單位真的能讓色狼止步？另外一個單位的姐妹們，小心啊！                                                                                                                                                                                                                                                                                                                                                                                                                                                                                                                                                                                                                                                                                                                                                                                                                                                                                                                                                                                                                                                          </td><td>2023/12/31</td><td>靠北護理師</td></tr>\n",
              "\t<tr><th scope=row>3</th><td>2023年最後一揭發，2024年下架民進黨！#揭發民進黨 EP.10 #護航性騷今年上半年，號稱最清廉勤政愛鄉土的民進黨，接連爆發性騷案、吃案，當時多名女立委紛紛跳出來自清、支援嚴懲性騷，但根本就是在演戲！根據立法院公報112卷第20期，去年底，前原能會主委謝曉星被爆出涉性騷、職場霸凌女下屬，情節重大，爾後，國民黨立院黨團提案要求原能會檢討修正性騷擾申訴處理之法制缺漏，並請行政院通盤檢討公務機關申訴流程機制。結果，又遭民進黨立委全體封殺。請問範雲、吳思瑤，你們口口聲聲的女權在哪裡？黨的一聲令下，你們又把女權丟一邊了嗎？保護被害者機制又在哪裡？黨內爆發性騷案，民進黨婦女部/性平部雙標不說，黨意立委們連健全一般民眾的申訴機制都要集體抵制，這還是為民發聲的民意代表嗎？國會過半的惡果，這八年中我們已經嚐到太多，明年絕對不能繼續讓一黨獨大。士林北投也懇請大家支援不受黨意綁架的４侯漢廷進入國會，真正為民請命！#打貪除弊最強戰力#最強戰力政黨輪替#北投士林立委候選人4侯漢廷                                                                                                                                                                                                                                                                                                                     </td><td>2023/12/31</td><td>侯漢廷    </td></tr>\n",
              "\t<tr><th scope=row>4</th><td>笑話！                                                                                                                                                                                                                                                                                                                                                                                                                                                                                                                                                                                                                                                                                                                                                                                                                                                                                                                                                                                                                                                                                                                                                                                            </td><td>2023/12/31</td><td>青青      </td></tr>\n",
              "\t<tr><th scope=row>5</th><td>加油！我一定投你一票💪                                                                                                                                                                                                                                                                                                                                                                                                                                                                                                                                                                                                                                                                                                                                                                                                                                                                                                                                                                                                                                                                                                                                                                            </td><td>2023/12/31</td><td>孫凱莉    </td></tr>\n",
              "\t<tr><th scope=row>6</th><td>…臺獨金孫開示….…抹黑是臺灣主流價值……傲慢是臺灣民主養份……坑蒙拐騙是臺灣美德…                                                                                                                                                                                                                                                                                                                                                                                                                                                                                                                                                                                                                                                                                                                                                                                                                                                                                                                                                                                                                                                                                                                       </td><td>2023/12/31</td><td>Sapi Hakka</td></tr>\n",
              "</tbody>\n",
              "</table>\n"
            ],
            "text/markdown": "\nA data.frame: 6 × 3\n\n| <!--/--> | text &lt;chr&gt; | date &lt;chr&gt; | author &lt;chr&gt; |\n|---|---|---|---|\n| 1 | 即時中心／綜合報導根據法庭檔案，曾任美國選秀節目《美國偶像》與《舞林爭霸》評審的寶拉阿巴杜（Paula Abdul），近日指控前製作人李斯高（Nigel Lythgoe）於兩人共事期間對她性侵害。寶拉阿巴杜指控控前製作人李斯高性侵。（資料圖／美聯社）路透社報導，61歲資深女星寶拉阿巴杜29日向洛杉磯郡高等法院（Los Angeles County Superior Court）提起訴訟，控告現年74歲的李斯高於《美國偶像》（American Idol）前幾季時，曾在電梯內對她不軌。法庭檔案指出，李斯高被控在某天美國偶像試鏡活動結束後，於飯店電梯內對寶拉阿巴杜襲胸且抓下體，還有其他討人厭的肢體接觸；當時寶拉阿巴杜試圖推開他，當電梯門一開時，她就迅速逃跑了。根據法庭檔案，寶拉阿巴杜當時因擔心丟掉工作而沒採取任何行動，而且合約也不准她對外張揚。幾年後，寶拉阿巴杜擔任舞蹈選秀節目《舞林爭霸》（So You Think You Can Dance）評審時，又被性侵害一次。訟狀指控，李斯高於某次工作晚餐後，在洛杉磯自宅的沙發上侵犯寶拉阿巴杜，當時寶拉阿巴杜再次堅定拒絕他，並「立刻離開李斯高的家」。寶拉阿巴杜也曾目擊，李斯高侵犯她在舞林爭霸的助理。根據美國娛樂媒體TMZ，李斯高否認前述指控。（文／中央社）《中天關心您｜拒絕性騷擾及性暴力，尊重身體自主權，請勇敢說不》◆保護專線：113／110◆婦女救援基金會：02-2555-8595◆現代婦女基金會性暴力防治組：02-7728-5098 | 2023/12/31 | 中天新聞   |\n| 2 | 投稿網址： too，但同科專師卻說因為人力不夠要相挺？性騷擾零容忍！為何護理師要容忍？換單位真的能讓色狼止步？另外一個單位的姐妹們，小心啊！                                                                                                                                                                                                                                                                                                                                                                                                                                                                                                                                                                                                                                                                                                                                                                                                                                                                                                                                                                                                                                                           | 2023/12/31 | 靠北護理師 |\n| 3 | 2023年最後一揭發，2024年下架民進黨！#揭發民進黨 EP.10 #護航性騷今年上半年，號稱最清廉勤政愛鄉土的民進黨，接連爆發性騷案、吃案，當時多名女立委紛紛跳出來自清、支援嚴懲性騷，但根本就是在演戲！根據立法院公報112卷第20期，去年底，前原能會主委謝曉星被爆出涉性騷、職場霸凌女下屬，情節重大，爾後，國民黨立院黨團提案要求原能會檢討修正性騷擾申訴處理之法制缺漏，並請行政院通盤檢討公務機關申訴流程機制。結果，又遭民進黨立委全體封殺。請問範雲、吳思瑤，你們口口聲聲的女權在哪裡？黨的一聲令下，你們又把女權丟一邊了嗎？保護被害者機制又在哪裡？黨內爆發性騷案，民進黨婦女部/性平部雙標不說，黨意立委們連健全一般民眾的申訴機制都要集體抵制，這還是為民發聲的民意代表嗎？國會過半的惡果，這八年中我們已經嚐到太多，明年絕對不能繼續讓一黨獨大。士林北投也懇請大家支援不受黨意綁架的４侯漢廷進入國會，真正為民請命！#打貪除弊最強戰力#最強戰力政黨輪替#北投士林立委候選人4侯漢廷                                                                                                                                                                                                                                                                                                                      | 2023/12/31 | 侯漢廷     |\n| 4 | 笑話！                                                                                                                                                                                                                                                                                                                                                                                                                                                                                                                                                                                                                                                                                                                                                                                                                                                                                                                                                                                                                                                                                                                                                                                             | 2023/12/31 | 青青       |\n| 5 | 加油！我一定投你一票💪                                                                                                                                                                                                                                                                                                                                                                                                                                                                                                                                                                                                                                                                                                                                                                                                                                                                                                                                                                                                                                                                                                                                                                             | 2023/12/31 | 孫凱莉     |\n| 6 | …臺獨金孫開示….…抹黑是臺灣主流價值……傲慢是臺灣民主養份……坑蒙拐騙是臺灣美德…                                                                                                                                                                                                                                                                                                                                                                                                                                                                                                                                                                                                                                                                                                                                                                                                                                                                                                                                                                                                                                                                                                                        | 2023/12/31 | Sapi Hakka |\n\n",
            "text/latex": "A data.frame: 6 × 3\n\\begin{tabular}{r|lll}\n  & text & date & author\\\\\n  & <chr> & <chr> & <chr>\\\\\n\\hline\n\t1 & 即時中心／綜合報導根據法庭檔案，曾任美國選秀節目《美國偶像》與《舞林爭霸》評審的寶拉阿巴杜（Paula Abdul），近日指控前製作人李斯高（Nigel Lythgoe）於兩人共事期間對她性侵害。寶拉阿巴杜指控控前製作人李斯高性侵。（資料圖／美聯社）路透社報導，61歲資深女星寶拉阿巴杜29日向洛杉磯郡高等法院（Los Angeles County Superior Court）提起訴訟，控告現年74歲的李斯高於《美國偶像》（American Idol）前幾季時，曾在電梯內對她不軌。法庭檔案指出，李斯高被控在某天美國偶像試鏡活動結束後，於飯店電梯內對寶拉阿巴杜襲胸且抓下體，還有其他討人厭的肢體接觸；當時寶拉阿巴杜試圖推開他，當電梯門一開時，她就迅速逃跑了。根據法庭檔案，寶拉阿巴杜當時因擔心丟掉工作而沒採取任何行動，而且合約也不准她對外張揚。幾年後，寶拉阿巴杜擔任舞蹈選秀節目《舞林爭霸》（So You Think You Can Dance）評審時，又被性侵害一次。訟狀指控，李斯高於某次工作晚餐後，在洛杉磯自宅的沙發上侵犯寶拉阿巴杜，當時寶拉阿巴杜再次堅定拒絕他，並「立刻離開李斯高的家」。寶拉阿巴杜也曾目擊，李斯高侵犯她在舞林爭霸的助理。根據美國娛樂媒體TMZ，李斯高否認前述指控。（文／中央社）《中天關心您｜拒絕性騷擾及性暴力，尊重身體自主權，請勇敢說不》◆保護專線：113／110◆婦女救援基金會：02-2555-8595◆現代婦女基金會性暴力防治組：02-7728-5098 & 2023/12/31 & 中天新聞  \\\\\n\t2 & 投稿網址： too，但同科專師卻說因為人力不夠要相挺？性騷擾零容忍！為何護理師要容忍？換單位真的能讓色狼止步？另外一個單位的姐妹們，小心啊！                                                                                                                                                                                                                                                                                                                                                                                                                                                                                                                                                                                                                                                                                                                                                                                                                                                                                                                                                                                                                                                           & 2023/12/31 & 靠北護理師\\\\\n\t3 & 2023年最後一揭發，2024年下架民進黨！\\#揭發民進黨 EP.10 \\#護航性騷今年上半年，號稱最清廉勤政愛鄉土的民進黨，接連爆發性騷案、吃案，當時多名女立委紛紛跳出來自清、支援嚴懲性騷，但根本就是在演戲！根據立法院公報112卷第20期，去年底，前原能會主委謝曉星被爆出涉性騷、職場霸凌女下屬，情節重大，爾後，國民黨立院黨團提案要求原能會檢討修正性騷擾申訴處理之法制缺漏，並請行政院通盤檢討公務機關申訴流程機制。結果，又遭民進黨立委全體封殺。請問範雲、吳思瑤，你們口口聲聲的女權在哪裡？黨的一聲令下，你們又把女權丟一邊了嗎？保護被害者機制又在哪裡？黨內爆發性騷案，民進黨婦女部/性平部雙標不說，黨意立委們連健全一般民眾的申訴機制都要集體抵制，這還是為民發聲的民意代表嗎？國會過半的惡果，這八年中我們已經嚐到太多，明年絕對不能繼續讓一黨獨大。士林北投也懇請大家支援不受黨意綁架的４侯漢廷進入國會，真正為民請命！\\#打貪除弊最強戰力\\#最強戰力政黨輪替\\#北投士林立委候選人4侯漢廷                                                                                                                                                                                                                                                                                                                      & 2023/12/31 & 侯漢廷    \\\\\n\t4 & 笑話！                                                                                                                                                                                                                                                                                                                                                                                                                                                                                                                                                                                                                                                                                                                                                                                                                                                                                                                                                                                                                                                                                                                                                                                             & 2023/12/31 & 青青      \\\\\n\t5 & 加油！我一定投你一票💪                                                                                                                                                                                                                                                                                                                                                                                                                                                                                                                                                                                                                                                                                                                                                                                                                                                                                                                                                                                                                                                                                                                                                                             & 2023/12/31 & 孫凱莉    \\\\\n\t6 & …臺獨金孫開示….…抹黑是臺灣主流價值……傲慢是臺灣民主養份……坑蒙拐騙是臺灣美德…                                                                                                                                                                                                                                                                                                                                                                                                                                                                                                                                                                                                                                                                                                                                                                                                                                                                                                                                                                                                                                                                                                                        & 2023/12/31 & Sapi Hakka\\\\\n\\end{tabular}\n",
            "text/plain": [
              "  text                                                                                                                                                                                                                                                                                                                                                                                                                                                                                                                                                                                                                                                                                                                                                                                                                                                                                                                                                                                                                                                                                                                                                                                              \n",
              "1 即時中心／綜合報導根據法庭檔案，曾任美國選秀節目《美國偶像》與《舞林爭霸》評審的寶拉阿巴杜（Paula Abdul），近日指控前製作人李斯高（Nigel Lythgoe）於兩人共事期間對她性侵害。寶拉阿巴杜指控控前製作人李斯高性侵。（資料圖／美聯社）路透社報導，61歲資深女星寶拉阿巴杜29日向洛杉磯郡高等法院（Los Angeles County Superior Court）提起訴訟，控告現年74歲的李斯高於《美國偶像》（American Idol）前幾季時，曾在電梯內對她不軌。法庭檔案指出，李斯高被控在某天美國偶像試鏡活動結束後，於飯店電梯內對寶拉阿巴杜襲胸且抓下體，還有其他討人厭的肢體接觸；當時寶拉阿巴杜試圖推開他，當電梯門一開時，她就迅速逃跑了。根據法庭檔案，寶拉阿巴杜當時因擔心丟掉工作而沒採取任何行動，而且合約也不准她對外張揚。幾年後，寶拉阿巴杜擔任舞蹈選秀節目《舞林爭霸》（So You Think You Can Dance）評審時，又被性侵害一次。訟狀指控，李斯高於某次工作晚餐後，在洛杉磯自宅的沙發上侵犯寶拉阿巴杜，當時寶拉阿巴杜再次堅定拒絕他，並「立刻離開李斯高的家」。寶拉阿巴杜也曾目擊，李斯高侵犯她在舞林爭霸的助理。根據美國娛樂媒體TMZ，李斯高否認前述指控。（文／中央社）《中天關心您｜拒絕性騷擾及性暴力，尊重身體自主權，請勇敢說不》◆保護專線：113／110◆婦女救援基金會：02-2555-8595◆現代婦女基金會性暴力防治組：02-7728-5098\n",
              "2 投稿網址： too，但同科專師卻說因為人力不夠要相挺？性騷擾零容忍！為何護理師要容忍？換單位真的能讓色狼止步？另外一個單位的姐妹們，小心啊！                                                                                                                                                                                                                                                                                                                                                                                                                                                                                                                                                                                                                                                                                                                                                                                                                                                                                                                                                                                                                                                          \n",
              "3 2023年最後一揭發，2024年下架民進黨！#揭發民進黨 EP.10 #護航性騷今年上半年，號稱最清廉勤政愛鄉土的民進黨，接連爆發性騷案、吃案，當時多名女立委紛紛跳出來自清、支援嚴懲性騷，但根本就是在演戲！根據立法院公報112卷第20期，去年底，前原能會主委謝曉星被爆出涉性騷、職場霸凌女下屬，情節重大，爾後，國民黨立院黨團提案要求原能會檢討修正性騷擾申訴處理之法制缺漏，並請行政院通盤檢討公務機關申訴流程機制。結果，又遭民進黨立委全體封殺。請問範雲、吳思瑤，你們口口聲聲的女權在哪裡？黨的一聲令下，你們又把女權丟一邊了嗎？保護被害者機制又在哪裡？黨內爆發性騷案，民進黨婦女部/性平部雙標不說，黨意立委們連健全一般民眾的申訴機制都要集體抵制，這還是為民發聲的民意代表嗎？國會過半的惡果，這八年中我們已經嚐到太多，明年絕對不能繼續讓一黨獨大。士林北投也懇請大家支援不受黨意綁架的４侯漢廷進入國會，真正為民請命！#打貪除弊最強戰力#最強戰力政黨輪替#北投士林立委候選人4侯漢廷                                                                                                                                                                                                                                                                                                                     \n",
              "4 笑話！                                                                                                                                                                                                                                                                                                                                                                                                                                                                                                                                                                                                                                                                                                                                                                                                                                                                                                                                                                                                                                                                                                                                                                                            \n",
              "5 加油！我一定投你一票💪                                                                                                                                                                                                                                                                                                                                                                                                                                                                                                                                                                                                                                                                                                                                                                                                                                                                                                                                                                                                                                                                                                                                                                            \n",
              "6 …臺獨金孫開示….…抹黑是臺灣主流價值……傲慢是臺灣民主養份……坑蒙拐騙是臺灣美德…                                                                                                                                                                                                                                                                                                                                                                                                                                                                                                                                                                                                                                                                                                                                                                                                                                                                                                                                                                                                                                                                                                                       \n",
              "  date       author    \n",
              "1 2023/12/31 中天新聞  \n",
              "2 2023/12/31 靠北護理師\n",
              "3 2023/12/31 侯漢廷    \n",
              "4 2023/12/31 青青      \n",
              "5 2023/12/31 孫凱莉    \n",
              "6 2023/12/31 Sapi Hakka"
            ]
          },
          "metadata": {}
        },
        {
          "output_type": "stream",
          "name": "stdout",
          "text": [
            "'data.frame':\t388683 obs. of  3 variables:\n",
            " $ text  : chr  \"即時中心／綜合報導根據法庭檔案，曾任美國選秀節目《美國偶像》與《舞林爭霸》評審的寶拉阿巴杜（Paula Abdul），近日\"| __truncated__ \"投稿網址： too，但同科專師卻說因為人力不夠要相挺？性騷擾零容忍！為何護理師要容忍？換單位真的能讓色狼止步？另外\"| __truncated__ \"2023年最後一揭發，2024年下架民進黨！#揭發民進黨 EP.10 #護航性騷今年上半年，號稱最清廉勤政愛鄉土的民進黨，接連爆\"| __truncated__ \"笑話！\" ...\n",
            " $ date  : chr  \"2023/12/31\" \"2023/12/31\" \"2023/12/31\" \"2023/12/31\" ...\n",
            " $ author: chr  \"中天新聞\" \"靠北護理師\" \"侯漢廷\" \"青青\" ...\n"
          ]
        }
      ]
    },
    {
      "cell_type": "code",
      "source": [
        "install.packages(\"jiebaR\")\n",
        "library(jiebaR)"
      ],
      "metadata": {
        "colab": {
          "base_uri": "https://localhost:8080/"
        },
        "id": "i7ITq1VsE1DV",
        "outputId": "011874aa-1001-4be3-ef42-a96374d7c2f5"
      },
      "execution_count": 32,
      "outputs": [
        {
          "output_type": "stream",
          "name": "stderr",
          "text": [
            "Installing package into ‘/usr/local/lib/R/site-library’\n",
            "(as ‘lib’ is unspecified)\n",
            "\n"
          ]
        }
      ]
    },
    {
      "cell_type": "markdown",
      "source": [
        "# 清洗資料"
      ],
      "metadata": {
        "id": "FMQJ2QXuFFXT"
      }
    },
    {
      "cell_type": "code",
      "source": [
        "# 創建結巴分詞器，並加載自定義詞典\n",
        "cutter <- worker(type = \"mix\", user = \"sex_harassment_termsCHAT.txt\")"
      ],
      "metadata": {
        "id": "bO1BlLYwFJQG"
      },
      "execution_count": 54,
      "outputs": []
    },
    {
      "cell_type": "code",
      "source": [
        "text_data$text <- gsub(\"me too\", \"me_too\", text_data$text)\n",
        "text_data$text <- gsub(\"http[s]?://\\\\S+|www\\\\.\\\\S+\", \"\", text_data$text)\n",
        "text_data$text <- gsub(\"[[:punct:]]\", \"\", text_data$text)  # 去除標點符號\n",
        "text_data$text <- gsub(\"[0-9]\", \"\", text_data$text)       # 去除數字\n",
        "text_data$text <- gsub(\"\\\\s+\", \" \", text_data$text)       # 替換多餘空白為單一空格\n",
        "text_data$text <- trimws(text_data$text)                 # 去除首尾空白\n",
        "text_data <- text_data[nchar(text_data$text) > 0, ]        # 移除空文本"
      ],
      "metadata": {
        "id": "VdIO4do-HCIk"
      },
      "execution_count": 55,
      "outputs": []
    },
    {
      "cell_type": "code",
      "source": [
        "# 將分詞結果存儲在新的欄位\n",
        "text_data$segmented <- sapply(text_data$text, function(x) {\n",
        "  paste(cutter[x], collapse = \" \")\n",
        "})\n",
        "\n",
        "# 查看結果\n",
        "head(text_data)\n"
      ],
      "metadata": {
        "colab": {
          "base_uri": "https://localhost:8080/",
          "height": 894
        },
        "id": "Ok7_WziIJW-3",
        "outputId": "536413bc-8fc4-4eb2-e03d-2ec3b0b86ff1"
      },
      "execution_count": 56,
      "outputs": [
        {
          "output_type": "display_data",
          "data": {
            "text/html": [
              "<table class=\"dataframe\">\n",
              "<caption>A data.frame: 6 × 4</caption>\n",
              "<thead>\n",
              "\t<tr><th></th><th scope=col>text</th><th scope=col>date</th><th scope=col>author</th><th scope=col>segmented</th></tr>\n",
              "\t<tr><th></th><th scope=col>&lt;chr&gt;</th><th scope=col>&lt;chr&gt;</th><th scope=col>&lt;chr&gt;</th><th scope=col>&lt;chr&gt;</th></tr>\n",
              "</thead>\n",
              "<tbody>\n",
              "\t<tr><th scope=row>1</th><td>即時中心綜合報導根據法庭檔案曾任美國選秀節目美國偶像與舞林爭霸評審的寶拉阿巴杜Paula Abdul近日指控前製作人李斯高Nigel Lythgoe於兩人共事期間對她性侵害寶拉阿巴杜指控控前製作人李斯高性侵資料圖美聯社路透社報導歲資深女星寶拉阿巴杜日向洛杉磯郡高等法院Los Angeles County Superior Court提起訴訟控告現年歲的李斯高於美國偶像American Idol前幾季時曾在電梯內對她不軌法庭檔案指出李斯高被控在某天美國偶像試鏡活動結束後於飯店電梯內對寶拉阿巴杜襲胸且抓下體還有其他討人厭的肢體接觸當時寶拉阿巴杜試圖推開他當電梯門一開時她就迅速逃跑了根據法庭檔案寶拉阿巴杜當時因擔心丟掉工作而沒採取任何行動而且合約也不准她對外張揚幾年後寶拉阿巴杜擔任舞蹈選秀節目舞林爭霸So You Think You Can Dance評審時又被性侵害一次訟狀指控李斯高於某次工作晚餐後在洛杉磯自宅的沙發上侵犯寶拉阿巴杜當時寶拉阿巴杜再次堅定拒絕他並立刻離開李斯高的家寶拉阿巴杜也曾目擊李斯高侵犯她在舞林爭霸的助理根據美國娛樂媒體TMZ李斯高否認前述指控文中央社中天關心您拒絕性騷擾及性暴力尊重身體自主權請勇敢說不保護專線婦女救援基金會現代婦女基金會性暴力防治組</td><td>2023/12/31</td><td>中天新聞  </td><td>即時 中心 綜合 報導 根據 法庭 檔案 曾任 美國 選秀 節目 美國 偶像 與 舞林 爭霸 評審 的 寶拉 阿巴 杜 Paula Abdul 近日 指控 前 製作 人 李斯 高 Nigel Lythgoe 於 兩人 共事 期間 對 她 性侵害 寶拉 阿巴 杜 指控 控前 製作 人 李斯 高 性侵 資料 圖 美聯社 路透社 報導 歲 資深 女星 寶拉 阿巴 杜日 向 洛杉磯 郡 高等法院 Los Angeles County Superior Court 提起 訴訟 控告 現 年歲 的 李斯 高於 美國 偶像 American Idol 前 幾季 時 曾 在 電梯 內 對 她 不軌 法庭 檔案 指出 李斯 高 被控 在 某天 美國 偶像 試鏡 活動 結束 後 於 飯店 電梯 內 對 寶拉 阿巴 杜襲 胸且 抓 下體 還有 其他 討人厭 的 肢體 接觸 當時 寶拉 阿巴 杜 試圖 推開 他當 電梯門 一 開時 她 就 迅速 逃跑 了 根據 法庭 檔案 寶拉 阿巴 杜 當時 因 擔心 丟掉 工作 而 沒 採取任何 行動 而且 合約 也 不准 她 對外 張揚 幾年 後 寶拉 阿巴 杜 擔任 舞蹈 選秀 節目 舞林 爭霸 So You Think You Can Dance 評審 時 又 被 性侵害 一次 訟狀 指控 李斯 高於 某次 工作 晚餐 後 在 洛杉磯 自宅 的 沙發 上 侵犯 寶拉 阿巴 杜 當時 寶拉 阿巴 杜 再次 堅定 拒絕 他並 立刻 離開 李斯 高 的 家寶 拉 阿巴 杜 也 曾 目擊 李斯 高 侵犯 她 在 舞林 爭霸 的 助理 根據 美國 娛樂 媒體 TMZ 李斯 高 否認 前述 指控 文 中央社 中天 關心 您 拒絕 性騷擾 及 性暴力 尊重 身體 自主權 請 勇敢 說 不 保護 專線 婦女救援基金會 現代婦女基金會 性暴力 防治 組</td></tr>\n",
              "\t<tr><th scope=row>2</th><td>投稿網址 too但同科專師卻說因為人力不夠要相挺性騷擾零容忍為何護理師要容忍換單位真的能讓色狼止步另外一個單位的姐妹們小心啊                                                                                                                                                                                                                                                                                                                                                                                                                                                                                                                                                                                                                                                                                                                                                                                                                                                                                               </td><td>2023/12/31</td><td>靠北護理師</td><td>投稿 網址 too 但 同科 專師 卻說 因為 人力 不夠 要 相挺 性騷擾 零 容忍 為何 護理 師要 容忍 換 單位 真的 能 讓 色狼 止步 另外 一個 單位 的 姐妹 們 小心 啊                                                                                                                                                                                                                                                                                                                                                                                                                                                                                                                                                                                                                                                                                                                                                                                                                                                                                                                                                                                                                                                                                                                        </td></tr>\n",
              "\t<tr><th scope=row>3</th><td>年最後一揭發年下架民進黨揭發民進黨 EP 護航性騷今年上半年號稱最清廉勤政愛鄉土的民進黨接連爆發性騷案吃案當時多名女立委紛紛跳出來自清支援嚴懲性騷但根本就是在演戲根據立法院公報卷第期去年底前原能會主委謝曉星被爆出涉性騷職場霸凌女下屬情節重大爾後國民黨立院黨團提案要求原能會檢討修正性騷擾申訴處理之法制缺漏並請行政院通盤檢討公務機關申訴流程機制結果又遭民進黨立委全體封殺請問範雲吳思瑤你們口口聲聲的女權在哪裡黨的一聲令下你們又把女權丟一邊了嗎保護被害者機制又在哪裡黨內爆發性騷案民進黨婦女部性平部雙標不說黨意立委們連健全一般民眾的申訴機制都要集體抵制這還是為民發聲的民意代表嗎國會過半的惡果這八年中我們已經嚐到太多明年絕對不能繼續讓一黨獨大士林北投也懇請大家支援不受黨意綁架的４侯漢廷進入國會真正為民請命打貪除弊最強戰力最強戰力政黨輪替北投士林立委候選人侯漢廷                                                                                                                                                                                                                                     </td><td>2023/12/31</td><td>侯漢廷    </td><td>年 最後 一 揭發 年 下架 民進黨 揭發 民進黨 EP 護航 性騷 今年 上半年 號稱 最 清廉 勤政 愛鄉 土 的 民進黨 接連 爆發 性騷案 吃案 當時 多名 女立委 紛紛 跳出 來自 清 支援 嚴懲 性騷 但 根本就是 在 演戲 根據 立法院 公報 卷 第期 去年底 前原 能會 主委 謝曉星 被 爆出 涉 性騷 職場 霸凌女 下屬 情節 重大 爾後 國民黨 立院 黨團 提案 要求 原能會 檢討 修正 性騷擾 申訴 處理 之 法制 缺漏 並請 行政院 通盤 檢討 公務 機關 申訴 流程 機制 結果 又 遭 民進黨 立委 全體 封殺 請問 範 雲 吳思瑤 你們 口口聲聲 的 女權 在 哪裡 黨 的 一聲令下 你們 又 把 女權 丟 一邊 了 嗎 保護 被害者 機制 又 在 哪裡 黨內 爆發 性騷案 民進黨 婦女部 性平部 雙標 不 說 黨意 立委 們 連 健全 一般 民眾 的 申訴 機制 都 要 集體 抵制 這 還是 為民 發聲 的 民意代表 嗎 國會 過半 的 惡果 這 八年 中 我們 已經 嚐到 太多 明年 絕對 不能 繼續 讓 一黨獨大 士林 北投 也 懇請 大家 支援 不受 黨意 綁架 的 侯 漢 廷 進入 國會 真正 為民 請命 打 貪 除弊 最強 戰力 最強 戰力 政黨 輪替 北投 士林 立委 候選人 侯漢廷                                                                                                                                                                                                                                                                                               </td></tr>\n",
              "\t<tr><th scope=row>4</th><td>笑話                                                                                                                                                                                                                                                                                                                                                                                                                                                                                                                                                                                                                                                                                                                                                                                                                                                                                                                                                                                                                   </td><td>2023/12/31</td><td>青青      </td><td>笑話                                                                                                                                                                                                                                                                                                                                                                                                                                                                                                                                                                                                                                                                                                                                                                                                                                                                                                                                                                                                                                                                                                                                                                                                                                                                            </td></tr>\n",
              "\t<tr><th scope=row>5</th><td>加油我一定投你一票                                                                                                                                                                                                                                                                                                                                                                                                                                                                                                                                                                                                                                                                                                                                                                                                                                                                                                                                                                                                     </td><td>2023/12/31</td><td>孫凱莉    </td><td>加油 我 一定 投 你 一票                                                                                                                                                                                                                                                                                                                                                                                                                                                                                                                                                                                                                                                                                                                                                                                                                                                                                                                                                                                                                                                                                                                                                                                                                                                         </td></tr>\n",
              "\t<tr><th scope=row>6</th><td>臺獨金孫開示抹黑是臺灣主流價值傲慢是臺灣民主養份坑蒙拐騙是臺灣美德                                                                                                                                                                                                                                                                                                                                                                                                                                                                                                                                                                                                                                                                                                                                                                                                                                                                                                                                                     </td><td>2023/12/31</td><td>Sapi Hakka</td><td>臺獨金孫 開示 抹黑 是 臺灣 主流 價值 傲慢 是 臺灣 民主 養份 坑蒙拐騙 是 臺灣 美德                                                                                                                                                                                                                                                                                                                                                                                                                                                                                                                                                                                                                                                                                                                                                                                                                                                                                                                                                                                                                                                                                                                                                                                               </td></tr>\n",
              "</tbody>\n",
              "</table>\n"
            ],
            "text/markdown": "\nA data.frame: 6 × 4\n\n| <!--/--> | text &lt;chr&gt; | date &lt;chr&gt; | author &lt;chr&gt; | segmented &lt;chr&gt; |\n|---|---|---|---|---|\n| 1 | 即時中心綜合報導根據法庭檔案曾任美國選秀節目美國偶像與舞林爭霸評審的寶拉阿巴杜Paula Abdul近日指控前製作人李斯高Nigel Lythgoe於兩人共事期間對她性侵害寶拉阿巴杜指控控前製作人李斯高性侵資料圖美聯社路透社報導歲資深女星寶拉阿巴杜日向洛杉磯郡高等法院Los Angeles County Superior Court提起訴訟控告現年歲的李斯高於美國偶像American Idol前幾季時曾在電梯內對她不軌法庭檔案指出李斯高被控在某天美國偶像試鏡活動結束後於飯店電梯內對寶拉阿巴杜襲胸且抓下體還有其他討人厭的肢體接觸當時寶拉阿巴杜試圖推開他當電梯門一開時她就迅速逃跑了根據法庭檔案寶拉阿巴杜當時因擔心丟掉工作而沒採取任何行動而且合約也不准她對外張揚幾年後寶拉阿巴杜擔任舞蹈選秀節目舞林爭霸So You Think You Can Dance評審時又被性侵害一次訟狀指控李斯高於某次工作晚餐後在洛杉磯自宅的沙發上侵犯寶拉阿巴杜當時寶拉阿巴杜再次堅定拒絕他並立刻離開李斯高的家寶拉阿巴杜也曾目擊李斯高侵犯她在舞林爭霸的助理根據美國娛樂媒體TMZ李斯高否認前述指控文中央社中天關心您拒絕性騷擾及性暴力尊重身體自主權請勇敢說不保護專線婦女救援基金會現代婦女基金會性暴力防治組 | 2023/12/31 | 中天新聞   | 即時 中心 綜合 報導 根據 法庭 檔案 曾任 美國 選秀 節目 美國 偶像 與 舞林 爭霸 評審 的 寶拉 阿巴 杜 Paula Abdul 近日 指控 前 製作 人 李斯 高 Nigel Lythgoe 於 兩人 共事 期間 對 她 性侵害 寶拉 阿巴 杜 指控 控前 製作 人 李斯 高 性侵 資料 圖 美聯社 路透社 報導 歲 資深 女星 寶拉 阿巴 杜日 向 洛杉磯 郡 高等法院 Los Angeles County Superior Court 提起 訴訟 控告 現 年歲 的 李斯 高於 美國 偶像 American Idol 前 幾季 時 曾 在 電梯 內 對 她 不軌 法庭 檔案 指出 李斯 高 被控 在 某天 美國 偶像 試鏡 活動 結束 後 於 飯店 電梯 內 對 寶拉 阿巴 杜襲 胸且 抓 下體 還有 其他 討人厭 的 肢體 接觸 當時 寶拉 阿巴 杜 試圖 推開 他當 電梯門 一 開時 她 就 迅速 逃跑 了 根據 法庭 檔案 寶拉 阿巴 杜 當時 因 擔心 丟掉 工作 而 沒 採取任何 行動 而且 合約 也 不准 她 對外 張揚 幾年 後 寶拉 阿巴 杜 擔任 舞蹈 選秀 節目 舞林 爭霸 So You Think You Can Dance 評審 時 又 被 性侵害 一次 訟狀 指控 李斯 高於 某次 工作 晚餐 後 在 洛杉磯 自宅 的 沙發 上 侵犯 寶拉 阿巴 杜 當時 寶拉 阿巴 杜 再次 堅定 拒絕 他並 立刻 離開 李斯 高 的 家寶 拉 阿巴 杜 也 曾 目擊 李斯 高 侵犯 她 在 舞林 爭霸 的 助理 根據 美國 娛樂 媒體 TMZ 李斯 高 否認 前述 指控 文 中央社 中天 關心 您 拒絕 性騷擾 及 性暴力 尊重 身體 自主權 請 勇敢 說 不 保護 專線 婦女救援基金會 現代婦女基金會 性暴力 防治 組 |\n| 2 | 投稿網址 too但同科專師卻說因為人力不夠要相挺性騷擾零容忍為何護理師要容忍換單位真的能讓色狼止步另外一個單位的姐妹們小心啊                                                                                                                                                                                                                                                                                                                                                                                                                                                                                                                                                                                                                                                                                                                                                                                                                                                                                                | 2023/12/31 | 靠北護理師 | 投稿 網址 too 但 同科 專師 卻說 因為 人力 不夠 要 相挺 性騷擾 零 容忍 為何 護理 師要 容忍 換 單位 真的 能 讓 色狼 止步 另外 一個 單位 的 姐妹 們 小心 啊                                                                                                                                                                                                                                                                                                                                                                                                                                                                                                                                                                                                                                                                                                                                                                                                                                                                                                                                                                                                                                                                                                                         |\n| 3 | 年最後一揭發年下架民進黨揭發民進黨 EP 護航性騷今年上半年號稱最清廉勤政愛鄉土的民進黨接連爆發性騷案吃案當時多名女立委紛紛跳出來自清支援嚴懲性騷但根本就是在演戲根據立法院公報卷第期去年底前原能會主委謝曉星被爆出涉性騷職場霸凌女下屬情節重大爾後國民黨立院黨團提案要求原能會檢討修正性騷擾申訴處理之法制缺漏並請行政院通盤檢討公務機關申訴流程機制結果又遭民進黨立委全體封殺請問範雲吳思瑤你們口口聲聲的女權在哪裡黨的一聲令下你們又把女權丟一邊了嗎保護被害者機制又在哪裡黨內爆發性騷案民進黨婦女部性平部雙標不說黨意立委們連健全一般民眾的申訴機制都要集體抵制這還是為民發聲的民意代表嗎國會過半的惡果這八年中我們已經嚐到太多明年絕對不能繼續讓一黨獨大士林北投也懇請大家支援不受黨意綁架的４侯漢廷進入國會真正為民請命打貪除弊最強戰力最強戰力政黨輪替北投士林立委候選人侯漢廷                                                                                                                                                                                                                                      | 2023/12/31 | 侯漢廷     | 年 最後 一 揭發 年 下架 民進黨 揭發 民進黨 EP 護航 性騷 今年 上半年 號稱 最 清廉 勤政 愛鄉 土 的 民進黨 接連 爆發 性騷案 吃案 當時 多名 女立委 紛紛 跳出 來自 清 支援 嚴懲 性騷 但 根本就是 在 演戲 根據 立法院 公報 卷 第期 去年底 前原 能會 主委 謝曉星 被 爆出 涉 性騷 職場 霸凌女 下屬 情節 重大 爾後 國民黨 立院 黨團 提案 要求 原能會 檢討 修正 性騷擾 申訴 處理 之 法制 缺漏 並請 行政院 通盤 檢討 公務 機關 申訴 流程 機制 結果 又 遭 民進黨 立委 全體 封殺 請問 範 雲 吳思瑤 你們 口口聲聲 的 女權 在 哪裡 黨 的 一聲令下 你們 又 把 女權 丟 一邊 了 嗎 保護 被害者 機制 又 在 哪裡 黨內 爆發 性騷案 民進黨 婦女部 性平部 雙標 不 說 黨意 立委 們 連 健全 一般 民眾 的 申訴 機制 都 要 集體 抵制 這 還是 為民 發聲 的 民意代表 嗎 國會 過半 的 惡果 這 八年 中 我們 已經 嚐到 太多 明年 絕對 不能 繼續 讓 一黨獨大 士林 北投 也 懇請 大家 支援 不受 黨意 綁架 的 侯 漢 廷 進入 國會 真正 為民 請命 打 貪 除弊 最強 戰力 最強 戰力 政黨 輪替 北投 士林 立委 候選人 侯漢廷                                                                                                                                                                                                                                                                                                |\n| 4 | 笑話                                                                                                                                                                                                                                                                                                                                                                                                                                                                                                                                                                                                                                                                                                                                                                                                                                                                                                                                                                                                                    | 2023/12/31 | 青青       | 笑話                                                                                                                                                                                                                                                                                                                                                                                                                                                                                                                                                                                                                                                                                                                                                                                                                                                                                                                                                                                                                                                                                                                                                                                                                                                                             |\n| 5 | 加油我一定投你一票                                                                                                                                                                                                                                                                                                                                                                                                                                                                                                                                                                                                                                                                                                                                                                                                                                                                                                                                                                                                      | 2023/12/31 | 孫凱莉     | 加油 我 一定 投 你 一票                                                                                                                                                                                                                                                                                                                                                                                                                                                                                                                                                                                                                                                                                                                                                                                                                                                                                                                                                                                                                                                                                                                                                                                                                                                          |\n| 6 | 臺獨金孫開示抹黑是臺灣主流價值傲慢是臺灣民主養份坑蒙拐騙是臺灣美德                                                                                                                                                                                                                                                                                                                                                                                                                                                                                                                                                                                                                                                                                                                                                                                                                                                                                                                                                      | 2023/12/31 | Sapi Hakka | 臺獨金孫 開示 抹黑 是 臺灣 主流 價值 傲慢 是 臺灣 民主 養份 坑蒙拐騙 是 臺灣 美德                                                                                                                                                                                                                                                                                                                                                                                                                                                                                                                                                                                                                                                                                                                                                                                                                                                                                                                                                                                                                                                                                                                                                                                                |\n\n",
            "text/latex": "A data.frame: 6 × 4\n\\begin{tabular}{r|llll}\n  & text & date & author & segmented\\\\\n  & <chr> & <chr> & <chr> & <chr>\\\\\n\\hline\n\t1 & 即時中心綜合報導根據法庭檔案曾任美國選秀節目美國偶像與舞林爭霸評審的寶拉阿巴杜Paula Abdul近日指控前製作人李斯高Nigel Lythgoe於兩人共事期間對她性侵害寶拉阿巴杜指控控前製作人李斯高性侵資料圖美聯社路透社報導歲資深女星寶拉阿巴杜日向洛杉磯郡高等法院Los Angeles County Superior Court提起訴訟控告現年歲的李斯高於美國偶像American Idol前幾季時曾在電梯內對她不軌法庭檔案指出李斯高被控在某天美國偶像試鏡活動結束後於飯店電梯內對寶拉阿巴杜襲胸且抓下體還有其他討人厭的肢體接觸當時寶拉阿巴杜試圖推開他當電梯門一開時她就迅速逃跑了根據法庭檔案寶拉阿巴杜當時因擔心丟掉工作而沒採取任何行動而且合約也不准她對外張揚幾年後寶拉阿巴杜擔任舞蹈選秀節目舞林爭霸So You Think You Can Dance評審時又被性侵害一次訟狀指控李斯高於某次工作晚餐後在洛杉磯自宅的沙發上侵犯寶拉阿巴杜當時寶拉阿巴杜再次堅定拒絕他並立刻離開李斯高的家寶拉阿巴杜也曾目擊李斯高侵犯她在舞林爭霸的助理根據美國娛樂媒體TMZ李斯高否認前述指控文中央社中天關心您拒絕性騷擾及性暴力尊重身體自主權請勇敢說不保護專線婦女救援基金會現代婦女基金會性暴力防治組 & 2023/12/31 & 中天新聞   & 即時 中心 綜合 報導 根據 法庭 檔案 曾任 美國 選秀 節目 美國 偶像 與 舞林 爭霸 評審 的 寶拉 阿巴 杜 Paula Abdul 近日 指控 前 製作 人 李斯 高 Nigel Lythgoe 於 兩人 共事 期間 對 她 性侵害 寶拉 阿巴 杜 指控 控前 製作 人 李斯 高 性侵 資料 圖 美聯社 路透社 報導 歲 資深 女星 寶拉 阿巴 杜日 向 洛杉磯 郡 高等法院 Los Angeles County Superior Court 提起 訴訟 控告 現 年歲 的 李斯 高於 美國 偶像 American Idol 前 幾季 時 曾 在 電梯 內 對 她 不軌 法庭 檔案 指出 李斯 高 被控 在 某天 美國 偶像 試鏡 活動 結束 後 於 飯店 電梯 內 對 寶拉 阿巴 杜襲 胸且 抓 下體 還有 其他 討人厭 的 肢體 接觸 當時 寶拉 阿巴 杜 試圖 推開 他當 電梯門 一 開時 她 就 迅速 逃跑 了 根據 法庭 檔案 寶拉 阿巴 杜 當時 因 擔心 丟掉 工作 而 沒 採取任何 行動 而且 合約 也 不准 她 對外 張揚 幾年 後 寶拉 阿巴 杜 擔任 舞蹈 選秀 節目 舞林 爭霸 So You Think You Can Dance 評審 時 又 被 性侵害 一次 訟狀 指控 李斯 高於 某次 工作 晚餐 後 在 洛杉磯 自宅 的 沙發 上 侵犯 寶拉 阿巴 杜 當時 寶拉 阿巴 杜 再次 堅定 拒絕 他並 立刻 離開 李斯 高 的 家寶 拉 阿巴 杜 也 曾 目擊 李斯 高 侵犯 她 在 舞林 爭霸 的 助理 根據 美國 娛樂 媒體 TMZ 李斯 高 否認 前述 指控 文 中央社 中天 關心 您 拒絕 性騷擾 及 性暴力 尊重 身體 自主權 請 勇敢 說 不 保護 專線 婦女救援基金會 現代婦女基金會 性暴力 防治 組\\\\\n\t2 & 投稿網址 too但同科專師卻說因為人力不夠要相挺性騷擾零容忍為何護理師要容忍換單位真的能讓色狼止步另外一個單位的姐妹們小心啊                                                                                                                                                                                                                                                                                                                                                                                                                                                                                                                                                                                                                                                                                                                                                                                                                                                                                                & 2023/12/31 & 靠北護理師 & 投稿 網址 too 但 同科 專師 卻說 因為 人力 不夠 要 相挺 性騷擾 零 容忍 為何 護理 師要 容忍 換 單位 真的 能 讓 色狼 止步 另外 一個 單位 的 姐妹 們 小心 啊                                                                                                                                                                                                                                                                                                                                                                                                                                                                                                                                                                                                                                                                                                                                                                                                                                                                                                                                                                                                                                                                                                                        \\\\\n\t3 & 年最後一揭發年下架民進黨揭發民進黨 EP 護航性騷今年上半年號稱最清廉勤政愛鄉土的民進黨接連爆發性騷案吃案當時多名女立委紛紛跳出來自清支援嚴懲性騷但根本就是在演戲根據立法院公報卷第期去年底前原能會主委謝曉星被爆出涉性騷職場霸凌女下屬情節重大爾後國民黨立院黨團提案要求原能會檢討修正性騷擾申訴處理之法制缺漏並請行政院通盤檢討公務機關申訴流程機制結果又遭民進黨立委全體封殺請問範雲吳思瑤你們口口聲聲的女權在哪裡黨的一聲令下你們又把女權丟一邊了嗎保護被害者機制又在哪裡黨內爆發性騷案民進黨婦女部性平部雙標不說黨意立委們連健全一般民眾的申訴機制都要集體抵制這還是為民發聲的民意代表嗎國會過半的惡果這八年中我們已經嚐到太多明年絕對不能繼續讓一黨獨大士林北投也懇請大家支援不受黨意綁架的４侯漢廷進入國會真正為民請命打貪除弊最強戰力最強戰力政黨輪替北投士林立委候選人侯漢廷                                                                                                                                                                                                                                      & 2023/12/31 & 侯漢廷     & 年 最後 一 揭發 年 下架 民進黨 揭發 民進黨 EP 護航 性騷 今年 上半年 號稱 最 清廉 勤政 愛鄉 土 的 民進黨 接連 爆發 性騷案 吃案 當時 多名 女立委 紛紛 跳出 來自 清 支援 嚴懲 性騷 但 根本就是 在 演戲 根據 立法院 公報 卷 第期 去年底 前原 能會 主委 謝曉星 被 爆出 涉 性騷 職場 霸凌女 下屬 情節 重大 爾後 國民黨 立院 黨團 提案 要求 原能會 檢討 修正 性騷擾 申訴 處理 之 法制 缺漏 並請 行政院 通盤 檢討 公務 機關 申訴 流程 機制 結果 又 遭 民進黨 立委 全體 封殺 請問 範 雲 吳思瑤 你們 口口聲聲 的 女權 在 哪裡 黨 的 一聲令下 你們 又 把 女權 丟 一邊 了 嗎 保護 被害者 機制 又 在 哪裡 黨內 爆發 性騷案 民進黨 婦女部 性平部 雙標 不 說 黨意 立委 們 連 健全 一般 民眾 的 申訴 機制 都 要 集體 抵制 這 還是 為民 發聲 的 民意代表 嗎 國會 過半 的 惡果 這 八年 中 我們 已經 嚐到 太多 明年 絕對 不能 繼續 讓 一黨獨大 士林 北投 也 懇請 大家 支援 不受 黨意 綁架 的 侯 漢 廷 進入 國會 真正 為民 請命 打 貪 除弊 最強 戰力 最強 戰力 政黨 輪替 北投 士林 立委 候選人 侯漢廷                                                                                                                                                                                                                                                                                               \\\\\n\t4 & 笑話                                                                                                                                                                                                                                                                                                                                                                                                                                                                                                                                                                                                                                                                                                                                                                                                                                                                                                                                                                                                                    & 2023/12/31 & 青青       & 笑話                                                                                                                                                                                                                                                                                                                                                                                                                                                                                                                                                                                                                                                                                                                                                                                                                                                                                                                                                                                                                                                                                                                                                                                                                                                                            \\\\\n\t5 & 加油我一定投你一票                                                                                                                                                                                                                                                                                                                                                                                                                                                                                                                                                                                                                                                                                                                                                                                                                                                                                                                                                                                                      & 2023/12/31 & 孫凱莉     & 加油 我 一定 投 你 一票                                                                                                                                                                                                                                                                                                                                                                                                                                                                                                                                                                                                                                                                                                                                                                                                                                                                                                                                                                                                                                                                                                                                                                                                                                                         \\\\\n\t6 & 臺獨金孫開示抹黑是臺灣主流價值傲慢是臺灣民主養份坑蒙拐騙是臺灣美德                                                                                                                                                                                                                                                                                                                                                                                                                                                                                                                                                                                                                                                                                                                                                                                                                                                                                                                                                      & 2023/12/31 & Sapi Hakka & 臺獨金孫 開示 抹黑 是 臺灣 主流 價值 傲慢 是 臺灣 民主 養份 坑蒙拐騙 是 臺灣 美德                                                                                                                                                                                                                                                                                                                                                                                                                                                                                                                                                                                                                                                                                                                                                                                                                                                                                                                                                                                                                                                                                                                                                                                               \\\\\n\\end{tabular}\n",
            "text/plain": [
              "  text                                                                                                                                                                                                                                                                                                                                                                                                                                                                                                                                                                                                                                                                                                                                                                                                                                                                                                                                                                                                                   \n",
              "1 即時中心綜合報導根據法庭檔案曾任美國選秀節目美國偶像與舞林爭霸評審的寶拉阿巴杜Paula Abdul近日指控前製作人李斯高Nigel Lythgoe於兩人共事期間對她性侵害寶拉阿巴杜指控控前製作人李斯高性侵資料圖美聯社路透社報導歲資深女星寶拉阿巴杜日向洛杉磯郡高等法院Los Angeles County Superior Court提起訴訟控告現年歲的李斯高於美國偶像American Idol前幾季時曾在電梯內對她不軌法庭檔案指出李斯高被控在某天美國偶像試鏡活動結束後於飯店電梯內對寶拉阿巴杜襲胸且抓下體還有其他討人厭的肢體接觸當時寶拉阿巴杜試圖推開他當電梯門一開時她就迅速逃跑了根據法庭檔案寶拉阿巴杜當時因擔心丟掉工作而沒採取任何行動而且合約也不准她對外張揚幾年後寶拉阿巴杜擔任舞蹈選秀節目舞林爭霸So You Think You Can Dance評審時又被性侵害一次訟狀指控李斯高於某次工作晚餐後在洛杉磯自宅的沙發上侵犯寶拉阿巴杜當時寶拉阿巴杜再次堅定拒絕他並立刻離開李斯高的家寶拉阿巴杜也曾目擊李斯高侵犯她在舞林爭霸的助理根據美國娛樂媒體TMZ李斯高否認前述指控文中央社中天關心您拒絕性騷擾及性暴力尊重身體自主權請勇敢說不保護專線婦女救援基金會現代婦女基金會性暴力防治組\n",
              "2 投稿網址 too但同科專師卻說因為人力不夠要相挺性騷擾零容忍為何護理師要容忍換單位真的能讓色狼止步另外一個單位的姐妹們小心啊                                                                                                                                                                                                                                                                                                                                                                                                                                                                                                                                                                                                                                                                                                                                                                                                                                                                                               \n",
              "3 年最後一揭發年下架民進黨揭發民進黨 EP 護航性騷今年上半年號稱最清廉勤政愛鄉土的民進黨接連爆發性騷案吃案當時多名女立委紛紛跳出來自清支援嚴懲性騷但根本就是在演戲根據立法院公報卷第期去年底前原能會主委謝曉星被爆出涉性騷職場霸凌女下屬情節重大爾後國民黨立院黨團提案要求原能會檢討修正性騷擾申訴處理之法制缺漏並請行政院通盤檢討公務機關申訴流程機制結果又遭民進黨立委全體封殺請問範雲吳思瑤你們口口聲聲的女權在哪裡黨的一聲令下你們又把女權丟一邊了嗎保護被害者機制又在哪裡黨內爆發性騷案民進黨婦女部性平部雙標不說黨意立委們連健全一般民眾的申訴機制都要集體抵制這還是為民發聲的民意代表嗎國會過半的惡果這八年中我們已經嚐到太多明年絕對不能繼續讓一黨獨大士林北投也懇請大家支援不受黨意綁架的４侯漢廷進入國會真正為民請命打貪除弊最強戰力最強戰力政黨輪替北投士林立委候選人侯漢廷                                                                                                                                                                                                                                     \n",
              "4 笑話                                                                                                                                                                                                                                                                                                                                                                                                                                                                                                                                                                                                                                                                                                                                                                                                                                                                                                                                                                                                                   \n",
              "5 加油我一定投你一票                                                                                                                                                                                                                                                                                                                                                                                                                                                                                                                                                                                                                                                                                                                                                                                                                                                                                                                                                                                                     \n",
              "6 臺獨金孫開示抹黑是臺灣主流價值傲慢是臺灣民主養份坑蒙拐騙是臺灣美德                                                                                                                                                                                                                                                                                                                                                                                                                                                                                                                                                                                                                                                                                                                                                                                                                                                                                                                                                     \n",
              "  date       author    \n",
              "1 2023/12/31 中天新聞  \n",
              "2 2023/12/31 靠北護理師\n",
              "3 2023/12/31 侯漢廷    \n",
              "4 2023/12/31 青青      \n",
              "5 2023/12/31 孫凱莉    \n",
              "6 2023/12/31 Sapi Hakka\n",
              "  segmented                                                                                                                                                                                                                                                                                                                                                                                                                                                                                                                                                                                                                                                                                                                                                                                                                                                                                                                                                                                                                                                                                                                                                                                                                                                                       \n",
              "1 即時 中心 綜合 報導 根據 法庭 檔案 曾任 美國 選秀 節目 美國 偶像 與 舞林 爭霸 評審 的 寶拉 阿巴 杜 Paula Abdul 近日 指控 前 製作 人 李斯 高 Nigel Lythgoe 於 兩人 共事 期間 對 她 性侵害 寶拉 阿巴 杜 指控 控前 製作 人 李斯 高 性侵 資料 圖 美聯社 路透社 報導 歲 資深 女星 寶拉 阿巴 杜日 向 洛杉磯 郡 高等法院 Los Angeles County Superior Court 提起 訴訟 控告 現 年歲 的 李斯 高於 美國 偶像 American Idol 前 幾季 時 曾 在 電梯 內 對 她 不軌 法庭 檔案 指出 李斯 高 被控 在 某天 美國 偶像 試鏡 活動 結束 後 於 飯店 電梯 內 對 寶拉 阿巴 杜襲 胸且 抓 下體 還有 其他 討人厭 的 肢體 接觸 當時 寶拉 阿巴 杜 試圖 推開 他當 電梯門 一 開時 她 就 迅速 逃跑 了 根據 法庭 檔案 寶拉 阿巴 杜 當時 因 擔心 丟掉 工作 而 沒 採取任何 行動 而且 合約 也 不准 她 對外 張揚 幾年 後 寶拉 阿巴 杜 擔任 舞蹈 選秀 節目 舞林 爭霸 So You Think You Can Dance 評審 時 又 被 性侵害 一次 訟狀 指控 李斯 高於 某次 工作 晚餐 後 在 洛杉磯 自宅 的 沙發 上 侵犯 寶拉 阿巴 杜 當時 寶拉 阿巴 杜 再次 堅定 拒絕 他並 立刻 離開 李斯 高 的 家寶 拉 阿巴 杜 也 曾 目擊 李斯 高 侵犯 她 在 舞林 爭霸 的 助理 根據 美國 娛樂 媒體 TMZ 李斯 高 否認 前述 指控 文 中央社 中天 關心 您 拒絕 性騷擾 及 性暴力 尊重 身體 自主權 請 勇敢 說 不 保護 專線 婦女救援基金會 現代婦女基金會 性暴力 防治 組\n",
              "2 投稿 網址 too 但 同科 專師 卻說 因為 人力 不夠 要 相挺 性騷擾 零 容忍 為何 護理 師要 容忍 換 單位 真的 能 讓 色狼 止步 另外 一個 單位 的 姐妹 們 小心 啊                                                                                                                                                                                                                                                                                                                                                                                                                                                                                                                                                                                                                                                                                                                                                                                                                                                                                                                                                                                                                                                                                                                        \n",
              "3 年 最後 一 揭發 年 下架 民進黨 揭發 民進黨 EP 護航 性騷 今年 上半年 號稱 最 清廉 勤政 愛鄉 土 的 民進黨 接連 爆發 性騷案 吃案 當時 多名 女立委 紛紛 跳出 來自 清 支援 嚴懲 性騷 但 根本就是 在 演戲 根據 立法院 公報 卷 第期 去年底 前原 能會 主委 謝曉星 被 爆出 涉 性騷 職場 霸凌女 下屬 情節 重大 爾後 國民黨 立院 黨團 提案 要求 原能會 檢討 修正 性騷擾 申訴 處理 之 法制 缺漏 並請 行政院 通盤 檢討 公務 機關 申訴 流程 機制 結果 又 遭 民進黨 立委 全體 封殺 請問 範 雲 吳思瑤 你們 口口聲聲 的 女權 在 哪裡 黨 的 一聲令下 你們 又 把 女權 丟 一邊 了 嗎 保護 被害者 機制 又 在 哪裡 黨內 爆發 性騷案 民進黨 婦女部 性平部 雙標 不 說 黨意 立委 們 連 健全 一般 民眾 的 申訴 機制 都 要 集體 抵制 這 還是 為民 發聲 的 民意代表 嗎 國會 過半 的 惡果 這 八年 中 我們 已經 嚐到 太多 明年 絕對 不能 繼續 讓 一黨獨大 士林 北投 也 懇請 大家 支援 不受 黨意 綁架 的 侯 漢 廷 進入 國會 真正 為民 請命 打 貪 除弊 最強 戰力 最強 戰力 政黨 輪替 北投 士林 立委 候選人 侯漢廷                                                                                                                                                                                                                                                                                               \n",
              "4 笑話                                                                                                                                                                                                                                                                                                                                                                                                                                                                                                                                                                                                                                                                                                                                                                                                                                                                                                                                                                                                                                                                                                                                                                                                                                                                            \n",
              "5 加油 我 一定 投 你 一票                                                                                                                                                                                                                                                                                                                                                                                                                                                                                                                                                                                                                                                                                                                                                                                                                                                                                                                                                                                                                                                                                                                                                                                                                                                         \n",
              "6 臺獨金孫 開示 抹黑 是 臺灣 主流 價值 傲慢 是 臺灣 民主 養份 坑蒙拐騙 是 臺灣 美德                                                                                                                                                                                                                                                                                                                                                                                                                                                                                                                                                                                                                                                                                                                                                                                                                                                                                                                                                                                                                                                                                                                                                                                               "
            ]
          },
          "metadata": {}
        }
      ]
    },
    {
      "cell_type": "markdown",
      "source": [
        "**停用詞**"
      ],
      "metadata": {
        "id": "RsSjOZfhMJcX"
      }
    },
    {
      "cell_type": "code",
      "source": [
        "# 讀取停用詞表\n",
        "stopwords <- read.csv(\"cn_stopwords.csv\", stringsAsFactors = FALSE, header = TRUE)"
      ],
      "metadata": {
        "id": "pzf36q0LMIZu"
      },
      "execution_count": null,
      "outputs": []
    },
    {
      "cell_type": "code",
      "source": [
        "# 查看文件結構\n",
        "str(stopwords)\n",
        "# 檢查讀取的停用詞\n",
        "head(stopwords,100)"
      ],
      "metadata": {
        "id": "aOXmgsGAMurm"
      },
      "execution_count": null,
      "outputs": []
    },
    {
      "cell_type": "code",
      "source": [
        "stopwords_list <- stopwords[[1]]\n"
      ],
      "metadata": {
        "id": "d0QZXkZcNpU1"
      },
      "execution_count": 40,
      "outputs": []
    },
    {
      "cell_type": "code",
      "source": [
        "library(tm)\n",
        "\n",
        "# 導入已有的文本數據\n",
        "corpus <- VCorpus(VectorSource(text_data$text))\n",
        "\n",
        "# 对停用词表中的特殊字符进行转义\n",
        "stopwords_list <- gsub(\"[\\\\^\\\\$\\\\.\\\\*\\\\+\\\\?\\\\(\\\\)\\\\[\\\\]\\\\{\\\\}\\\\|\\\\\\\\\\\\/]\", \"\\\\\\\\\\\\&\", stopwords_list, fixed = FALSE, perl = TRUE)\n",
        "\n",
        "# 移除停用詞\n",
        "corpus_clean <- tm_map(corpus, content_transformer(tolower))      # 轉小寫\n",
        "corpus_clean <- tm_map(corpus_clean, removeWords, stopwords_list) # 使用自定義停用詞\n",
        "corpus_clean <- tm_map(corpus_clean, stripWhitespace)            # 去除多餘空白\n",
        "\n",
        "# 檢查結果\n",
        "cleaned_text <- sapply(corpus_clean, as.character)\n",
        "print(cleaned_text)\n"
      ],
      "metadata": {
        "id": "PoYRSs4tN0ry"
      },
      "execution_count": null,
      "outputs": []
    }
  ]
}